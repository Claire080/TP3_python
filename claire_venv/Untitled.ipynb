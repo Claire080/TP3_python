{
 "cells": [
  {
   "cell_type": "code",
   "execution_count": 6,
   "id": "a209bc31-9c24-46a1-b9f3-1c870b59aea1",
   "metadata": {},
   "outputs": [],
   "source": [
    "import pandas as pd\n",
    "df=pd.read_csv(\"nodes-addresses.csv\",low_memory=False)"
   ]
  },
  {
   "cell_type": "code",
   "execution_count": null,
   "id": "0d478d2c-09f8-4c99-8e84-68ace290b1c0",
   "metadata": {},
   "outputs": [],
   "source": [
    "^mpM!"
   ]
  },
  {
   "cell_type": "code",
   "execution_count": null,
   "id": "298d6758-1831-4bbb-95c7-f85bbd945540",
   "metadata": {},
   "outputs": [],
   "source": []
  }
 ],
 "metadata": {
  "kernelspec": {
   "display_name": "Python 3 (ipykernel)",
   "language": "python",
   "name": "python3"
  },
  "language_info": {
   "codemirror_mode": {
    "name": "ipython",
    "version": 3
   },
   "file_extension": ".py",
   "mimetype": "text/x-python",
   "name": "python",
   "nbconvert_exporter": "python",
   "pygments_lexer": "ipython3",
   "version": "3.9.10"
  }
 },
 "nbformat": 4,
 "nbformat_minor": 5
}
